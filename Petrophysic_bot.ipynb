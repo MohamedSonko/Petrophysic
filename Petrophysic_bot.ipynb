{
 "cells": [
  {
   "cell_type": "code",
   "execution_count": 1,
   "id": "4210cce6",
   "metadata": {},
   "outputs": [],
   "source": [
    "import warnings\n",
    "warnings.filterwarnings(\"ignore\")"
   ]
  },
  {
   "cell_type": "code",
   "execution_count": 2,
   "id": "66df39fb",
   "metadata": {},
   "outputs": [
    {
     "name": "stdout",
     "output_type": "stream",
     "text": [
      "Requirement already satisfied: nltk in c:\\users\\msonko\\anaconda3\\lib\\site-packages (3.7)\n",
      "Requirement already satisfied: tqdm in c:\\users\\msonko\\anaconda3\\lib\\site-packages (from nltk) (4.64.1)\n",
      "Requirement already satisfied: regex>=2021.8.3 in c:\\users\\msonko\\anaconda3\\lib\\site-packages (from nltk) (2022.7.9)\n",
      "Requirement already satisfied: joblib in c:\\users\\msonko\\anaconda3\\lib\\site-packages (from nltk) (1.1.0)\n",
      "Requirement already satisfied: click in c:\\users\\msonko\\anaconda3\\lib\\site-packages (from nltk) (8.0.4)\n",
      "Requirement already satisfied: colorama in c:\\users\\msonko\\anaconda3\\lib\\site-packages (from click->nltk) (0.4.5)\n"
     ]
    }
   ],
   "source": [
    "!pip install nltk"
   ]
  },
  {
   "cell_type": "code",
   "execution_count": 3,
   "id": "42b8796f",
   "metadata": {},
   "outputs": [],
   "source": [
    "#Packages à importer\n",
    "from nltk.chat.util import Chat,reflections"
   ]
  },
  {
   "cell_type": "code",
   "execution_count": 1,
   "id": "45fe87da",
   "metadata": {},
   "outputs": [],
   "source": [
    "#Dialogue\n",
    "pairs = [\n",
    "    [\"(Bonjour|Salut|Comment allez-vous?|Comment vas-tu?|Comment ça va?|Bonsoir|Bon après-midi)\", \n",
    "     [\"Salut je suis MLS, le pétrophysicien, que puis-je faire pour vous?\"]],\n",
    "    [\"(.*) diagraphie\", \n",
    "     [\"Les diagraphies sont des enregistrements des paramètres physiques des formations traversées au cours du forage.Ces enregistrements sont matérialisés par des courbes et nous distinguons deux types de diagraphies:\\nDiagraphies instantanées ou LWD (Logging While Drilling): mesurées au cours du forage (de haut en bas)\\nDiagraphies différées ou wireline: mesurées après le forage (de bas en haut)\"]],\n",
    "    [\"Quels sont les types de diagrapgies?\", \n",
    "     [\"Les différents types de diagraphie sont:\\nles diagraphies de porosité: Sonic, Densité et Neutron\\nles diagraphies de lithologie: Gamma Ray (GR), Photoélectique (PEF) et Potentiel Spontané (PS)\\nles diagraphies de trou: Caliper et CBL\\nles diagraphies de résistivité: Dispositif normal (16 inches et 64 inches), Dispositif latéral, Logs électrodes focalisés (LLD, LLS, Laterolog 3, HRLA), Induction logs (ILD, ILM, AIT), MSFL, Microlog, MicroLaterolog\"]],\n",
    "    [\"(.*) zones d'hydrocarbures\", \n",
    "     [\"Les hydrocarbures peuvent être détectés en analysant conjointement les courbes de résistivité, de densité et de neutron:\\nune forte valeur de la résistivité combinée au croisement des courbes de densité et de neutron avec une augmentation de la densité et une diminution du neutron prouve la présence d'hydrocarbure à la profondeur indiquée\"]],\n",
    "    [\"(.*) zone d'eau\", \n",
    "     [\"L'eau peut être détectée en analysant conjointement les courbes de résistivité, de densité et de neutron: \\nune faible valeur de la résitivité combinée au croisement des courbes de densité et de neutron avec une augmentation de la densité et une diminution du neutron\"]],\n",
    "    [\"Comment calculer la porosité?\", \n",
    "     [\"La porosité est calculée à partir des courbes de porosité, comme suit:\\nA partir du Sonic: PHI = (delta log - delta matrice) / (delta fluide - delta matrice) avec ∆tma: temps de transit de la matrice et ∆tf: temps de transit du fluide (189μs/ft)\\nA partir de la Densité: PHI = (densité lue - densité matrice) / (densité fluide - densité matrice) avec ρma(2.65 pour les sables, 2.68 pour les sables calcaires, 2.71 pour les calcaires et 2.87 pour les dolomies) et ρf(1 pour l'eau potable, 1.1 pour l'eau salée, 0.735 pour l'eau avec 30% de gaz résiduel, 0.92 pour l'eau avec 30% d'huile)\\nA partir du Neutron (lecture de la courbe)\\nA partir de la combinaison Neutron-Densité: PHI = (PHId + PHIn) / 2 (pour les liquides) et PHI = (((PHId)^2 + (PHIn)^2) / 2)^(1/2) (pour le gaz)\"]],\n",
    "    [\"(.*) saturation en hydrocarbures\", \n",
    "     [\"La saturation en hydrocarbures peut être calculée en soustrayant la saturation en eau de la saturation totale en fluide (eau + hydrocarbures) qui vaut 1 (en termes de fraction) ou 100 (en termes de pourcentage)\"]],\n",
    "    [\"(.*) saturation en eau\", \n",
    "     [\"La saturation en eau peut être calculée à partir des formules suivantes:\\nA partir de la formule d'Archie: Sw = ((a * Rw) / (PHIe^m * Rt))^(1/2) avec a(tortuosité), m(cimentation), n(facteur de saturation), PHIe(porosié effective), Rw(résistivité de l'eau), Rt(résistivité totale)\\nA partir de la formule de Simandoux: Sw = ((D^2 + E)^0.5 - D)^(2/n) avec C = (1 - Vsh) * a * Rw / PHIe^m, D = (C * Vsh) / (2 * Rsh), E = C / Rt, m(cimentation), n(facteur de saturation), PHIe(porosité effective), Rt (résistivité totale), Rw(résistivité de l'eau), Rsh (résistivité de l'argile), Vsh (volume d'argile)\\nA partir de la formule de Waxman-Smits: Sw=(PHIt^(-m')*Rw/Rt(1+(RwBQv/Sw0)) )^(1/n') avec Sw0(saturation en eau initiale),porosité totale obtenue à partir de la courbe densité, Rw(résistivité de l'eau),B(conductancecationique équivalente),Qt(concentration de l'échange des cations hydratés), Rt(résistivité totale),m'(exposant de la cimentation Waxman),n'(exosant de la saturation Waxman)\\nA partir de la formule Dual Water:Sw=(PHIt^(-m)*Rw/Rt(1-(Swb*Rw/Sw0)*((1/Rwb)-(1/Rw))) )^(1/n) avec Sw0(saturation en eau initiale),porosité totale obtenue à partir de la courbe de densité, Rw(résistivité de l'eau), Rt(résistivité totale), m(cimentation),n(exposant de la saturation),Swb=((Vsh*PHITsh)/(PHIT)),Rwb=(Rsh*(PHITsh)^m)\\nA partir de la formule d'Istvan Juhasz:Sw=(PHIt^(-m')*Rw/Rt(1+((Qvn*Rw)/Sw0)*((1/Rwsh)-(1/Rw))) )^(1/n' ) avec Sw0(saturation en eau initiale), porosité obtenue à partir de la courbe de densité, Rw(résistivité de l'eau),Rt(résistivité totale),m'(exposant cimentation Waxman),n'(exposant saturation Waxman),Qvn=(Vsh*PHITsh)/PHIT,Rwsh=(Rsh*(PHITsh)^m)\"]],\n",
    "    [\"(.*) perméabilité\", \n",
    "     [\"La perméabilité peut être calculée comme suit:\\nA partir de la formule de Coates et Dumanoir: K = (70 * PHIe^2 * (1 - Swirr) / Swirr)^2 avec PHIe(porosité effective), Swirr(saturation en eau irréductible)\\nA partir de la formule de Timur: K = (100 * PHIe^2.25 / Swirr)^2 avec PHIe(porosité effective), Swirr(saturation en eau irréductible)\\nA partir de la formule de Tixier: K = (250 * PHIe^3 / Swirr)^2 avec PHIe(porosité effective), Swirr(saturation en eau irréductible)\"]],\n",
    "    [\"(.*) volume d'argile\", \n",
    "     [\"Le volume d'argile peut être calculé comme suit:\\nA partir du Gamma Ray: Vsh = (GR - GRcl) / (GRsh - GRcl) avec GR(valeur lue à une profondeur donnée), GRcl(valeur dans les sables propres), GRsh(valeur dans les intervalles 100% argile)\\nA partir du Potentiel Spontané: Vsh = (PS - PScl) / (PSsh - PScl) avec PS(valeur lue à une profondeur donnée), PScl(valeur dans les sables propres), PSsh(valeur dans les zones 100% argile)\\nA partir de la combinaison Neutron-Densité:Vsh=(PHIn-PHId)/(PHInsh-PHIdsh) avec Øn(porosité du neutron dans la zone d'intérêt),Ød(porosité de la densité dans la zone d'intérêt),Ønsh(porosité du neutron dans la zone 100% argile),Ødsh(porosité de la densité dans la zone 100% argile)\\nA partir du modèle Thomas-Stieber (modèle graphique)\"]],\n",
    "    [\"(Merci|Au revoir|A bientôt|Merci beaucoup|Ciao|Bye)\",\n",
    "     [\"Je vous en prie...A bientôt\"]]\n",
    "]"
   ]
  },
  {
   "cell_type": "code",
   "execution_count": 2,
   "id": "6570a38e",
   "metadata": {},
   "outputs": [
    {
     "name": "stdout",
     "output_type": "stream",
     "text": [
      "Requirement already satisfied: streamlit in c:\\users\\msonko\\anaconda3\\lib\\site-packages (1.41.1)\n",
      "Requirement already satisfied: nltk in c:\\users\\msonko\\anaconda3\\lib\\site-packages (3.7)\n",
      "Requirement already satisfied: tornado<7,>=6.0.3 in c:\\users\\msonko\\anaconda3\\lib\\site-packages (from streamlit) (6.1)\n",
      "Requirement already satisfied: cachetools<6,>=4.0 in c:\\users\\msonko\\anaconda3\\lib\\site-packages (from streamlit) (5.5.0)\n",
      "Requirement already satisfied: gitpython!=3.1.19,<4,>=3.0.7 in c:\\users\\msonko\\anaconda3\\lib\\site-packages (from streamlit) (3.1.43)\n",
      "Requirement already satisfied: pyarrow>=7.0 in c:\\users\\msonko\\anaconda3\\lib\\site-packages (from streamlit) (18.1.0)\n",
      "Requirement already satisfied: altair<6,>=4.0 in c:\\users\\msonko\\anaconda3\\lib\\site-packages (from streamlit) (5.5.0)\n",
      "Requirement already satisfied: rich<14,>=10.14.0 in c:\\users\\msonko\\anaconda3\\lib\\site-packages (from streamlit) (13.8.0)\n",
      "Requirement already satisfied: watchdog<7,>=2.1.5 in c:\\users\\msonko\\anaconda3\\lib\\site-packages (from streamlit) (2.1.6)\n",
      "Requirement already satisfied: pandas<3,>=1.4.0 in c:\\users\\msonko\\anaconda3\\lib\\site-packages (from streamlit) (1.4.4)\n",
      "Requirement already satisfied: requests<3,>=2.27 in c:\\users\\msonko\\anaconda3\\lib\\site-packages (from streamlit) (2.32.3)\n",
      "Requirement already satisfied: protobuf<6,>=3.20 in c:\\users\\msonko\\anaconda3\\lib\\site-packages (from streamlit) (5.29.2)\n",
      "Requirement already satisfied: pydeck<1,>=0.8.0b4 in c:\\users\\msonko\\anaconda3\\lib\\site-packages (from streamlit) (0.9.1)\n",
      "Requirement already satisfied: blinker<2,>=1.0.0 in c:\\users\\msonko\\anaconda3\\lib\\site-packages (from streamlit) (1.9.0)\n",
      "Requirement already satisfied: numpy<3,>=1.23 in c:\\users\\msonko\\anaconda3\\lib\\site-packages (from streamlit) (1.26.4)\n",
      "Requirement already satisfied: pillow<12,>=7.1.0 in c:\\users\\msonko\\anaconda3\\lib\\site-packages (from streamlit) (9.2.0)\n",
      "Requirement already satisfied: tenacity<10,>=8.1.0 in c:\\users\\msonko\\anaconda3\\lib\\site-packages (from streamlit) (9.0.0)\n",
      "Requirement already satisfied: click<9,>=7.0 in c:\\users\\msonko\\anaconda3\\lib\\site-packages (from streamlit) (8.0.4)\n",
      "Requirement already satisfied: typing-extensions<5,>=4.3.0 in c:\\users\\msonko\\anaconda3\\lib\\site-packages (from streamlit) (4.12.2)\n",
      "Requirement already satisfied: packaging<25,>=20 in c:\\users\\msonko\\anaconda3\\lib\\site-packages (from streamlit) (24.2)\n",
      "Requirement already satisfied: toml<2,>=0.10.1 in c:\\users\\msonko\\anaconda3\\lib\\site-packages (from streamlit) (0.10.2)\n",
      "Requirement already satisfied: joblib in c:\\users\\msonko\\anaconda3\\lib\\site-packages (from nltk) (1.1.0)\n",
      "Requirement already satisfied: tqdm in c:\\users\\msonko\\anaconda3\\lib\\site-packages (from nltk) (4.64.1)\n",
      "Requirement already satisfied: regex>=2021.8.3 in c:\\users\\msonko\\anaconda3\\lib\\site-packages (from nltk) (2022.7.9)\n",
      "Requirement already satisfied: jinja2 in c:\\users\\msonko\\anaconda3\\lib\\site-packages (from altair<6,>=4.0->streamlit) (2.11.3)\n",
      "Requirement already satisfied: jsonschema>=3.0 in c:\\users\\msonko\\anaconda3\\lib\\site-packages (from altair<6,>=4.0->streamlit) (4.16.0)\n",
      "Requirement already satisfied: narwhals>=1.14.2 in c:\\users\\msonko\\anaconda3\\lib\\site-packages (from altair<6,>=4.0->streamlit) (1.19.1)\n",
      "Requirement already satisfied: colorama in c:\\users\\msonko\\anaconda3\\lib\\site-packages (from click<9,>=7.0->streamlit) (0.4.5)\n",
      "Requirement already satisfied: gitdb<5,>=4.0.1 in c:\\users\\msonko\\anaconda3\\lib\\site-packages (from gitpython!=3.1.19,<4,>=3.0.7->streamlit) (4.0.11)\n",
      "Requirement already satisfied: pytz>=2020.1 in c:\\users\\msonko\\anaconda3\\lib\\site-packages (from pandas<3,>=1.4.0->streamlit) (2022.1)\n",
      "Requirement already satisfied: python-dateutil>=2.8.1 in c:\\users\\msonko\\anaconda3\\lib\\site-packages (from pandas<3,>=1.4.0->streamlit) (2.8.2)\n",
      "Requirement already satisfied: urllib3<3,>=1.21.1 in c:\\users\\msonko\\anaconda3\\lib\\site-packages (from requests<3,>=2.27->streamlit) (2.2.2)\n",
      "Requirement already satisfied: certifi>=2017.4.17 in c:\\users\\msonko\\anaconda3\\lib\\site-packages (from requests<3,>=2.27->streamlit) (2022.9.14)\n",
      "Requirement already satisfied: charset-normalizer<4,>=2 in c:\\users\\msonko\\anaconda3\\lib\\site-packages (from requests<3,>=2.27->streamlit) (2.0.4)\n",
      "Requirement already satisfied: idna<4,>=2.5 in c:\\users\\msonko\\anaconda3\\lib\\site-packages (from requests<3,>=2.27->streamlit) (3.3)\n",
      "Requirement already satisfied: markdown-it-py>=2.2.0 in c:\\users\\msonko\\anaconda3\\lib\\site-packages (from rich<14,>=10.14.0->streamlit) (3.0.0)\n",
      "Requirement already satisfied: pygments<3.0.0,>=2.13.0 in c:\\users\\msonko\\anaconda3\\lib\\site-packages (from rich<14,>=10.14.0->streamlit) (2.18.0)\n",
      "Requirement already satisfied: smmap<6,>=3.0.1 in c:\\users\\msonko\\anaconda3\\lib\\site-packages (from gitdb<5,>=4.0.1->gitpython!=3.1.19,<4,>=3.0.7->streamlit) (5.0.1)\n",
      "Requirement already satisfied: MarkupSafe>=0.23 in c:\\users\\msonko\\anaconda3\\lib\\site-packages (from jinja2->altair<6,>=4.0->streamlit) (2.0.1)\n",
      "Requirement already satisfied: attrs>=17.4.0 in c:\\users\\msonko\\anaconda3\\lib\\site-packages (from jsonschema>=3.0->altair<6,>=4.0->streamlit) (21.4.0)\n",
      "Requirement already satisfied: pyrsistent!=0.17.0,!=0.17.1,!=0.17.2,>=0.14.0 in c:\\users\\msonko\\anaconda3\\lib\\site-packages (from jsonschema>=3.0->altair<6,>=4.0->streamlit) (0.18.0)\n",
      "Requirement already satisfied: mdurl~=0.1 in c:\\users\\msonko\\anaconda3\\lib\\site-packages (from markdown-it-py>=2.2.0->rich<14,>=10.14.0->streamlit) (0.1.2)\n",
      "Requirement already satisfied: six>=1.5 in c:\\users\\msonko\\anaconda3\\lib\\site-packages (from python-dateutil>=2.8.1->pandas<3,>=1.4.0->streamlit) (1.16.0)\n"
     ]
    }
   ],
   "source": [
    "!pip install streamlit nltk"
   ]
  },
  {
   "cell_type": "code",
   "execution_count": 10,
   "id": "d30ce2e7",
   "metadata": {},
   "outputs": [
    {
     "name": "stderr",
     "output_type": "stream",
     "text": [
      "2024-12-25 13:33:34.155 WARNING streamlit.runtime.scriptrunner_utils.script_run_context: Thread 'MainThread': missing ScriptRunContext! This warning can be ignored when running in bare mode.\n",
      "2024-12-25 13:33:34.365 \n",
      "  \u001b[33m\u001b[1mWarning:\u001b[0m to view this Streamlit app on a browser, run it with the following\n",
      "  command:\n",
      "\n",
      "    streamlit run C:\\Users\\msonko\\Anaconda3\\lib\\site-packages\\ipykernel_launcher.py [ARGUMENTS]\n",
      "2024-12-25 13:33:34.366 Thread 'MainThread': missing ScriptRunContext! This warning can be ignored when running in bare mode.\n",
      "2024-12-25 13:33:34.370 Thread 'MainThread': missing ScriptRunContext! This warning can be ignored when running in bare mode.\n",
      "2024-12-25 13:33:34.371 Thread 'MainThread': missing ScriptRunContext! This warning can be ignored when running in bare mode.\n",
      "2024-12-25 13:33:34.372 Thread 'MainThread': missing ScriptRunContext! This warning can be ignored when running in bare mode.\n",
      "2024-12-25 13:33:34.374 Thread 'MainThread': missing ScriptRunContext! This warning can be ignored when running in bare mode.\n",
      "2024-12-25 13:33:34.377 Session state does not function when running a script without `streamlit run`\n",
      "2024-12-25 13:33:34.379 Thread 'MainThread': missing ScriptRunContext! This warning can be ignored when running in bare mode.\n",
      "2024-12-25 13:33:34.381 Thread 'MainThread': missing ScriptRunContext! This warning can be ignored when running in bare mode.\n"
     ]
    }
   ],
   "source": [
    "import streamlit as st\n",
    "from nltk.chat.util import Chat, reflections\n",
    "\n",
    "# Define your chatbot pairs\n",
    "pairs = [\n",
    "    [\"(Bonjour|Salut|Comment allez-vous?|Comment vas-tu?|Comment ça va?|Bonsoir|Bon après-midi)\", \n",
    "     [\"Salut je suis MLS, le pétrophysicien, que puis-je faire pour vous?\"]],\n",
    "    [\"(.*) diagraphie\", \n",
    "     [\"Les diagraphies sont des enregistrements des paramètres physiques des formations traversées au cours du forage.Ces enregistrements sont matérialisés par des courbes et nous distinguons deux types de diagraphies:\\nDiagraphies instantanées ou LWD (Logging While Drilling): mesurées au cours du forage (de haut en bas)\\nDiagraphies différées ou wireline: mesurées après le forage (de bas en haut)\"]],\n",
    "    [\"Quels sont les types de diagrapgies?\", \n",
    "     [\"Les différents types de diagraphie sont:\\nles diagraphies de porosité: Sonic, Densité et Neutron\\nles diagraphies de lithologie: Gamma Ray (GR), Photoélectique (PEF) et Potentiel Spontané (PS)\\nles diagraphies de trou: Caliper et CBL\\nles diagraphies de résistivité: Dispositif normal (16 inches et 64 inches), Dispositif latéral, Logs électrodes focalisés (LLD, LLS, Laterolog 3, HRLA), Induction logs (ILD, ILM, AIT), MSFL, Microlog, MicroLaterolog\"]],\n",
    "    [\"(.*) zones d'hydrocarbures\", \n",
    "     [\"Les hydrocarbures peuvent être détectés en analysant conjointement les courbes de résistivité, de densité et de neutron:\\nune forte valeur de la résistivité combinée au croisement des courbes de densité et de neutron avec une augmentation de la densité et une diminution du neutron prouve la présence d'hydrocarbure à la profondeur indiquée\"]],\n",
    "    [\"(.*) zone d'eau\", \n",
    "     [\"L'eau peut être détectée en analysant conjointement les courbes de résistivité, de densité et de neutron: \\nune faible valeur de la résitivité combinée au croisement des courbes de densité et de neutron avec une augmentation de la densité et une diminution du neutron\"]],\n",
    "    [\"Comment calculer la porosité?\", \n",
    "     [\"La porosité est calculée à partir des courbes de porosité, comme suit:\\nA partir du Sonic: PHI = (delta log - delta matrice) / (delta fluide - delta matrice) avec ∆tma: temps de transit de la matrice et ∆tf: temps de transit du fluide (189μs/ft)\\nA partir de la Densité: PHI = (densité lue - densité matrice) / (densité fluide - densité matrice) avec ρma(2.65 pour les sables, 2.68 pour les sables calcaires, 2.71 pour les calcaires et 2.87 pour les dolomies) et ρf(1 pour l'eau potable, 1.1 pour l'eau salée, 0.735 pour l'eau avec 30% de gaz résiduel, 0.92 pour l'eau avec 30% d'huile)\\nA partir du Neutron (lecture de la courbe)\\nA partir de la combinaison Neutron-Densité: PHI = (PHId + PHIn) / 2 (pour les liquides) et PHI = (((PHId)^2 + (PHIn)^2) / 2)^(1/2) (pour le gaz)\"]],\n",
    "    [\"(.*) saturation en hydrocarbures\", \n",
    "     [\"La saturation en hydrocarbures peut être calculée en soustrayant la saturation en eau de la saturation totale en fluide (eau + hydrocarbures) qui vaut 1 (en termes de fraction) ou 100 (en termes de pourcentage)\"]],\n",
    "    [\"(.*) saturation en eau\", \n",
    "     [\"La saturation en eau peut être calculée à partir des formules suivantes:\\nA partir de la formule d'Archie: Sw = ((a * Rw) / (PHIe^m * Rt))^(1/2) avec a(tortuosité), m(cimentation), n(facteur de saturation), PHIe(porosié effective), Rw(résistivité de l'eau), Rt(résistivité totale)\\nA partir de la formule de Simandoux: Sw = ((D^2 + E)^0.5 - D)^(2/n) avec C = (1 - Vsh) * a * Rw / PHIe^m, D = (C * Vsh) / (2 * Rsh), E = C / Rt, m(cimentation), n(facteur de saturation), PHIe(porosité effective), Rt (résistivité totale), Rw(résistivité de l'eau), Rsh (résistivité de l'argile), Vsh (volume d'argile)\\nA partir de la formule de Waxman-Smits: Sw=(PHIt^(-m')*Rw/Rt(1+(RwBQv/Sw0)) )^(1/n') avec Sw0(saturation en eau initiale),porosité totale obtenue à partir de la courbe densité, Rw(résistivité de l'eau),B(conductancecationique équivalente),Qt(concentration de l'échange des cations hydratés), Rt(résistivité totale),m'(exposant de la cimentation Waxman),n'(exosant de la saturation Waxman)\\nA partir de la formule Dual Water:Sw=(PHIt^(-m)*Rw/Rt(1-(Swb*Rw/Sw0)*((1/Rwb)-(1/Rw))) )^(1/n) avec Sw0(saturation en eau initiale),porosité totale obtenue à partir de la courbe de densité, Rw(résistivité de l'eau), Rt(résistivité totale), m(cimentation),n(exposant de la saturation),Swb=((Vsh*PHITsh)/(PHIT)),Rwb=(Rsh*(PHITsh)^m)\\nA partir de la formule d'Istvan Juhasz:Sw=(PHIt^(-m')*Rw/Rt(1+((Qvn*Rw)/Sw0)*((1/Rwsh)-(1/Rw))) )^(1/n' ) avec Sw0(saturation en eau initiale), porosité obtenue à partir de la courbe de densité, Rw(résistivité de l'eau),Rt(résistivité totale),m'(exposant cimentation Waxman),n'(exposant saturation Waxman),Qvn=(Vsh*PHITsh)/PHIT,Rwsh=(Rsh*(PHITsh)^m)\"]],\n",
    "    [\"(.*) perméabilité\", \n",
    "     [\"La perméabilité peut être calculée comme suit:\\nA partir de la formule de Coates et Dumanoir: K = (70 * PHIe^2 * (1 - Swirr) / Swirr)^2 avec PHIe(porosité effective), Swirr(saturation en eau irréductible)\\nA partir de la formule de Timur: K = (100 * PHIe^2.25 / Swirr)^2 avec PHIe(porosité effective), Swirr(saturation en eau irréductible)\\nA partir de la formule de Tixier: K = (250 * PHIe^3 / Swirr)^2 avec PHIe(porosité effective), Swirr(saturation en eau irréductible)\"]],\n",
    "    [\"(.*) volume d'argile\", \n",
    "     [\"Le volume d'argile peut être calculé comme suit:\\nA partir du Gamma Ray: Vsh = (GR - GRcl) / (GRsh - GRcl) avec GR(valeur lue à une profondeur donnée), GRcl(valeur dans les sables propres), GRsh(valeur dans les intervalles 100% argile)\\nA partir du Potentiel Spontané: Vsh = (PS - PScl) / (PSsh - PScl) avec PS(valeur lue à une profondeur donnée), PScl(valeur dans les sables propres), PSsh(valeur dans les zones 100% argile)\\nA partir de la combinaison Neutron-Densité:Vsh=(PHIn-PHId)/(PHInsh-PHIdsh) avec Øn(porosité du neutron dans la zone d'intérêt),Ød(porosité de la densité dans la zone d'intérêt),Ønsh(porosité du neutron dans la zone 100% argile),Ødsh(porosité de la densité dans la zone 100% argile)\\nA partir du modèle Thomas-Stieber (modèle graphique)\"]],\n",
    "    [\"(Merci|Au revoir|A bientôt|Merci beaucoup|Ciao|Bye)\",\n",
    "     [\"Je vous en prie...A bientôt\"]]\n",
    "]\n",
    "# Create a chatbot class\n",
    "class Chatbot:\n",
    "    def __init__(self, pairs, reflections):\n",
    "        self.chatbot = Chat(pairs, reflections)\n",
    "\n",
    "    def get_response(self, user_input):\n",
    "        return self.chatbot.respond(user_input)\n",
    "\n",
    "# Create Streamlit app\n",
    "def main():\n",
    "    # Set the title of the app\n",
    "    st.title(\"Chatbot Pétrophysicien\")\n",
    "\n",
    "    # Create a Chatbot instance\n",
    "    chatbot = Chatbot(pairs, reflections)\n",
    "\n",
    "    # Create an input box for the user to type\n",
    "    user_input = st.text_input(\"Posez votre question:\")\n",
    "\n",
    "    if user_input:\n",
    "        response = chatbot.get_response(user_input)\n",
    "        st.write(f\"Réponse: {response}\")\n",
    "\n",
    "if __name__ == \"__main__\":\n",
    "    main()"
   ]
  }
 ],
 "metadata": {
  "kernelspec": {
   "display_name": "Python 3 (ipykernel)",
   "language": "python",
   "name": "python3"
  },
  "language_info": {
   "codemirror_mode": {
    "name": "ipython",
    "version": 3
   },
   "file_extension": ".py",
   "mimetype": "text/x-python",
   "name": "python",
   "nbconvert_exporter": "python",
   "pygments_lexer": "ipython3",
   "version": "3.9.13"
  }
 },
 "nbformat": 4,
 "nbformat_minor": 5
}
